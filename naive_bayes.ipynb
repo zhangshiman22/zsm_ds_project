{
 "cells": [
  {
   "cell_type": "code",
   "execution_count": 1,
   "id": "051c7ffa",
   "metadata": {},
   "outputs": [],
   "source": [
    "import pandas as pd\n",
    "import numpy as np"
   ]
  },
  {
   "cell_type": "code",
   "execution_count": 8,
   "id": "e88d155e",
   "metadata": {},
   "outputs": [
    {
     "name": "stdout",
     "output_type": "stream",
     "text": [
      "         Rating\n",
      "count  20491.00\n",
      "mean       3.95\n",
      "std        1.23\n",
      "min        1.00\n",
      "25%        3.00\n",
      "50%        4.00\n",
      "75%        5.00\n",
      "max        5.00\n"
     ]
    },
    {
     "data": {
      "text/html": [
       "<div>\n",
       "<style scoped>\n",
       "    .dataframe tbody tr th:only-of-type {\n",
       "        vertical-align: middle;\n",
       "    }\n",
       "\n",
       "    .dataframe tbody tr th {\n",
       "        vertical-align: top;\n",
       "    }\n",
       "\n",
       "    .dataframe thead th {\n",
       "        text-align: right;\n",
       "    }\n",
       "</style>\n",
       "<table border=\"1\" class=\"dataframe\">\n",
       "  <thead>\n",
       "    <tr style=\"text-align: right;\">\n",
       "      <th></th>\n",
       "      <th>Review</th>\n",
       "      <th>Rating</th>\n",
       "    </tr>\n",
       "  </thead>\n",
       "  <tbody>\n",
       "    <tr>\n",
       "      <th>0</th>\n",
       "      <td>nice hotel expensive parking got good deal sta...</td>\n",
       "      <td>4</td>\n",
       "    </tr>\n",
       "    <tr>\n",
       "      <th>1</th>\n",
       "      <td>ok nothing special charge diamond member hilto...</td>\n",
       "      <td>2</td>\n",
       "    </tr>\n",
       "    <tr>\n",
       "      <th>2</th>\n",
       "      <td>nice rooms not 4* experience hotel monaco seat...</td>\n",
       "      <td>3</td>\n",
       "    </tr>\n",
       "    <tr>\n",
       "      <th>3</th>\n",
       "      <td>unique, great stay, wonderful time hotel monac...</td>\n",
       "      <td>5</td>\n",
       "    </tr>\n",
       "    <tr>\n",
       "      <th>4</th>\n",
       "      <td>great stay great stay, went seahawk game aweso...</td>\n",
       "      <td>5</td>\n",
       "    </tr>\n",
       "  </tbody>\n",
       "</table>\n",
       "</div>"
      ],
      "text/plain": [
       "                                              Review  Rating\n",
       "0  nice hotel expensive parking got good deal sta...       4\n",
       "1  ok nothing special charge diamond member hilto...       2\n",
       "2  nice rooms not 4* experience hotel monaco seat...       3\n",
       "3  unique, great stay, wonderful time hotel monac...       5\n",
       "4  great stay great stay, went seahawk game aweso...       5"
      ]
     },
     "execution_count": 8,
     "metadata": {},
     "output_type": "execute_result"
    }
   ],
   "source": [
    "data = pd.read_csv('data/tripadvisor_hotel_reviews.csv')\n",
    "print(data.describe().round(2))\n",
    "data.head(5)"
   ]
  },
  {
   "cell_type": "code",
   "execution_count": null,
   "id": "b8fc8acb",
   "metadata": {},
   "outputs": [],
   "source": [
    "# def label(rating, sentiment):\n",
    "#     if rating > 3:\n",
    "#         sentiment = 'positive'\n",
    "#     if rating < 3:\n",
    "#         sentiment = 'negative'\n",
    "#     return rating, sentiment\n",
    "\n",
    "# rating 应该是一个 number in [1~5]，不需要返回\n",
    "# label 这个函数的功能设计，是给我的 csv data 打上一个 sentiment label。不做其他任何操作。no side effect"
   ]
  },
  {
   "cell_type": "code",
   "execution_count": 18,
   "id": "d8b4ec7d",
   "metadata": {},
   "outputs": [
    {
     "ename": "AttributeError",
     "evalue": "'Series' object has no attribute 'label'",
     "output_type": "error",
     "traceback": [
      "\u001b[31m---------------------------------------------------------------------------\u001b[39m",
      "\u001b[31mAttributeError\u001b[39m                            Traceback (most recent call last)",
      "\u001b[32m/tmp/ipykernel_359416/4036968171.py\u001b[39m in \u001b[36m?\u001b[39m\u001b[34m()\u001b[39m\n\u001b[32m----> \u001b[39m\u001b[32m1\u001b[39m data_label = data[\u001b[33m'Rating'\u001b[39m].label(Rating)\n\u001b[32m      2\u001b[39m \u001b[38;5;66;03m#  AttributeError: 'Series' object has no attribute 'label'\u001b[39;00m\n\u001b[32m      3\u001b[39m \u001b[38;5;66;03m# 我遇到了这个错误，这个写法不对。我的function return的东西不对，但我不知道要怎么修改\u001b[39;00m\n",
      "\u001b[32m~/venv/lib/python3.12/site-packages/pandas/core/generic.py\u001b[39m in \u001b[36m?\u001b[39m\u001b[34m(self, name)\u001b[39m\n\u001b[32m   6295\u001b[39m             \u001b[38;5;28;01mand\u001b[39;00m name \u001b[38;5;28;01mnot\u001b[39;00m \u001b[38;5;28;01min\u001b[39;00m self._accessors\n\u001b[32m   6296\u001b[39m             \u001b[38;5;28;01mand\u001b[39;00m self._info_axis._can_hold_identifiers_and_holds_name(name)\n\u001b[32m   6297\u001b[39m         ):\n\u001b[32m   6298\u001b[39m             \u001b[38;5;28;01mreturn\u001b[39;00m self[name]\n\u001b[32m-> \u001b[39m\u001b[32m6299\u001b[39m         \u001b[38;5;28;01mreturn\u001b[39;00m object.__getattribute__(self, name)\n",
      "\u001b[31mAttributeError\u001b[39m: 'Series' object has no attribute 'label'"
     ]
    }
   ],
   "source": [
    "# data_label = data['Rating'].label(Rating) \n",
    "#  AttributeError: 'Series' object has no attribute 'label'\n",
    "# 我遇到了这个错误，这个写法不对。我的function return的东西不对，但我不知道要怎么修改\n",
    "\n",
    "# AttributeError 是说找不到这个属性，所以我不应该这样 “调用（获取属性）”"
   ]
  },
  {
   "cell_type": "code",
   "execution_count": 19,
   "id": "2a381bd0",
   "metadata": {},
   "outputs": [
    {
     "data": {
      "text/plain": [
       "'negative'"
      ]
     },
     "execution_count": 19,
     "metadata": {},
     "output_type": "execute_result"
    }
   ],
   "source": [
    "def label(rating):\n",
    "    '''\n",
    "     params: rating accept number in [1~5] \n",
    "     return sentiment like 'positive', 'negative'\n",
    "    '''\n",
    "    if rating > 3:\n",
    "        sentiment = 'positive'\n",
    "    if rating <= 3:\n",
    "        sentiment = 'negative'\n",
    "    return sentiment\n",
    "\n",
    "label(3)"
   ]
  },
  {
   "cell_type": "code",
   "execution_count": 24,
   "id": "ce2a9594",
   "metadata": {},
   "outputs": [
    {
     "data": {
      "text/html": [
       "<div>\n",
       "<style scoped>\n",
       "    .dataframe tbody tr th:only-of-type {\n",
       "        vertical-align: middle;\n",
       "    }\n",
       "\n",
       "    .dataframe tbody tr th {\n",
       "        vertical-align: top;\n",
       "    }\n",
       "\n",
       "    .dataframe thead th {\n",
       "        text-align: right;\n",
       "    }\n",
       "</style>\n",
       "<table border=\"1\" class=\"dataframe\">\n",
       "  <thead>\n",
       "    <tr style=\"text-align: right;\">\n",
       "      <th></th>\n",
       "      <th>Review</th>\n",
       "      <th>Rating</th>\n",
       "      <th>label</th>\n",
       "    </tr>\n",
       "  </thead>\n",
       "  <tbody>\n",
       "    <tr>\n",
       "      <th>0</th>\n",
       "      <td>nice hotel expensive parking got good deal sta...</td>\n",
       "      <td>4</td>\n",
       "      <td>positive</td>\n",
       "    </tr>\n",
       "    <tr>\n",
       "      <th>1</th>\n",
       "      <td>ok nothing special charge diamond member hilto...</td>\n",
       "      <td>2</td>\n",
       "      <td>negative</td>\n",
       "    </tr>\n",
       "    <tr>\n",
       "      <th>2</th>\n",
       "      <td>nice rooms not 4* experience hotel monaco seat...</td>\n",
       "      <td>3</td>\n",
       "      <td>negative</td>\n",
       "    </tr>\n",
       "    <tr>\n",
       "      <th>3</th>\n",
       "      <td>unique, great stay, wonderful time hotel monac...</td>\n",
       "      <td>5</td>\n",
       "      <td>positive</td>\n",
       "    </tr>\n",
       "    <tr>\n",
       "      <th>4</th>\n",
       "      <td>great stay great stay, went seahawk game aweso...</td>\n",
       "      <td>5</td>\n",
       "      <td>positive</td>\n",
       "    </tr>\n",
       "  </tbody>\n",
       "</table>\n",
       "</div>"
      ],
      "text/plain": [
       "                                              Review  Rating     label\n",
       "0  nice hotel expensive parking got good deal sta...       4  positive\n",
       "1  ok nothing special charge diamond member hilto...       2  negative\n",
       "2  nice rooms not 4* experience hotel monaco seat...       3  negative\n",
       "3  unique, great stay, wonderful time hotel monac...       5  positive\n",
       "4  great stay great stay, went seahawk game aweso...       5  positive"
      ]
     },
     "execution_count": 24,
     "metadata": {},
     "output_type": "execute_result"
    }
   ],
   "source": [
    "data['label'] = data['Rating'].map(label)\n",
    "\n",
    "# data['Rating'] is a series (pandas)\n",
    "# another impletation for map funtion\n",
    "\n",
    "# label_list = []\n",
    "# for row in data['Rating']:\n",
    "#     label_res = label(row)\n",
    "#     label_list.append(label_res)\n",
    "# data['label'] = label_list\n",
    "\n",
    "data.head()\n",
    "\n",
    "# class data_list:\n",
    "\n",
    "#     def my_map(self, function):\n",
    "#         res_list = []\n",
    "#         for row in data_list:\n",
    "#             res = function(row)\n",
    "#             res_list.append(res)\n",
    "#         return res_list\n",
    "# data_list.my_map()"
   ]
  },
  {
   "cell_type": "code",
   "execution_count": 56,
   "id": "520a93f1",
   "metadata": {},
   "outputs": [
    {
     "name": "stdout",
     "output_type": "stream",
     "text": [
      "positive rate is 0.74\n"
     ]
    }
   ],
   "source": [
    "def positive_count(label):\n",
    "    count=0\n",
    "    if label == 'positive':\n",
    "        count= count + 1\n",
    "        return count\n",
    "    return 0\n",
    "\n",
    "positive_rate = data['label'].map(positive_count).sum()/data['label'].count()\n",
    "print(f\"positive rate is {positive_rate.round(2)}\")"
   ]
  },
  {
   "cell_type": "code",
   "execution_count": 51,
   "id": "1b2fe9e3",
   "metadata": {},
   "outputs": [
    {
     "data": {
      "text/plain": [
       "np.int64(15093)"
      ]
     },
     "execution_count": 51,
     "metadata": {},
     "output_type": "execute_result"
    }
   ],
   "source": [
    "# data['label'].map(positive_count).sum()\n",
    "data['label'].where(lambda label: label == 'positive').count()"
   ]
  },
  {
   "cell_type": "code",
   "execution_count": 57,
   "id": "1e2ee2dd",
   "metadata": {},
   "outputs": [
    {
     "ename": "AttributeError",
     "evalue": "'Series' object has no attribute 'split'",
     "output_type": "error",
     "traceback": [
      "\u001b[31m---------------------------------------------------------------------------\u001b[39m",
      "\u001b[31mAttributeError\u001b[39m                            Traceback (most recent call last)",
      "\u001b[32m/tmp/ipykernel_359416/268953488.py\u001b[39m in \u001b[36m?\u001b[39m\u001b[34m()\u001b[39m\n\u001b[32m      1\u001b[39m \u001b[38;5;66;03m# convector\u001b[39;00m\n\u001b[32m      2\u001b[39m \u001b[38;5;66;03m# split text to words\u001b[39;00m\n\u001b[32m----> \u001b[39m\u001b[32m3\u001b[39m data[\u001b[33m'Review'\u001b[39m].split(\u001b[33m' '\u001b[39m)\n\u001b[32m      4\u001b[39m \u001b[38;5;66;03m# drop no meaningful words\u001b[39;00m\n\u001b[32m      5\u001b[39m \u001b[38;5;66;03m#\u001b[39;00m\n\u001b[32m      6\u001b[39m \u001b[38;5;66;03m# convert words to vector\u001b[39;00m\n",
      "\u001b[32m~/venv/lib/python3.12/site-packages/pandas/core/generic.py\u001b[39m in \u001b[36m?\u001b[39m\u001b[34m(self, name)\u001b[39m\n\u001b[32m   6295\u001b[39m             \u001b[38;5;28;01mand\u001b[39;00m name \u001b[38;5;28;01mnot\u001b[39;00m \u001b[38;5;28;01min\u001b[39;00m self._accessors\n\u001b[32m   6296\u001b[39m             \u001b[38;5;28;01mand\u001b[39;00m self._info_axis._can_hold_identifiers_and_holds_name(name)\n\u001b[32m   6297\u001b[39m         ):\n\u001b[32m   6298\u001b[39m             \u001b[38;5;28;01mreturn\u001b[39;00m self[name]\n\u001b[32m-> \u001b[39m\u001b[32m6299\u001b[39m         \u001b[38;5;28;01mreturn\u001b[39;00m object.__getattribute__(self, name)\n",
      "\u001b[31mAttributeError\u001b[39m: 'Series' object has no attribute 'split'"
     ]
    }
   ],
   "source": [
    "# convector\n",
    "# split text to words \n",
    "def split(text):\n",
    "    for row in text:\n",
    "\n",
    "data['Review'].split(' ')\n",
    "# drop no meaningful words\n",
    "# 词形还原：\n",
    "# convert words to vector\n"
   ]
  },
  {
   "cell_type": "code",
   "execution_count": 58,
   "id": "3d2c6384",
   "metadata": {},
   "outputs": [
    {
     "name": "stdout",
     "output_type": "stream",
     "text": [
      "Accuracy: 1.0\n",
      "Test: pos\n",
      "Test: neg\n"
     ]
    }
   ],
   "source": [
    "import re\n",
    "import math\n",
    "from collections import defaultdict\n",
    "\n",
    "# 1. 数据准备（简单示例）\n",
    "data = [\n",
    "    (\"I love this movie\", \"pos\"),\n",
    "    (\"This film was great\", \"pos\"),\n",
    "    (\"What a fantastic experience\", \"pos\"),\n",
    "    (\"I hate this movie\", \"neg\"),\n",
    "    (\"This film was terrible\", \"neg\"),\n",
    "    (\"It was a horrible experience\", \"neg\")\n",
    "]\n",
    "\n",
    "# 2. 分词函数（简单英文分词）\n",
    "def tokenize(text):\n",
    "    text = text.lower()\n",
    "    return re.findall(r'\\b\\w+\\b', text)\n",
    "\n",
    "# 3. 构建词频和类别统计\n",
    "class NaiveBayesClassifier:\n",
    "    def __init__(self):# initialization all attributes and dataframe\n",
    "        self.class_word_counts = defaultdict(lambda: defaultdict(int))  # {class: {word: count}} 用于计数器，默认值是0\n",
    "        self.class_counts = defaultdict(int)  # {class: total_words_in_class}\n",
    "        self.doc_counts = defaultdict(int)    # {class: num_docs}\n",
    "        self.vocab = set() # set是集合，subset子集，superset超集，comlement补集，较于list是去重的\n",
    "        self.total_docs = 0\n",
    "\n",
    "    def train(self, data):\n",
    "        for text, label in data:\n",
    "            self.total_docs += 1 #因为要计算P（class）先验概率 total_docs = 1\n",
    "            self.doc_counts[label] += 1 # {'pos':1}\n",
    "            words = tokenize(text)\n",
    "            for word in words:\n",
    "                self.class_word_counts[label][word] += 1\n",
    "                self.class_counts[label] += 1\n",
    "                self.vocab.add(word)\n",
    "\n",
    "# class_word_counts = {'pos' : {'i': 1, 'love': 1, 'this': 1, 'movie': 1}}\n",
    "#  class_counts = {'pos' : 4,'neg':0}\n",
    "    # 4. 使用朴素贝叶斯预测\n",
    "    def predict(self, text):\n",
    "        words = tokenize(text)\n",
    "        scores = {}\n",
    "        for label in self.class_counts:\n",
    "            # 先验概率 log(P(class))\n",
    "            prior_prob = math.log(self.doc_counts[label] / self.total_docs) #log 1/1 =0\n",
    "            cond_prob = 0\n",
    "            for word in words:\n",
    "                # 拉普拉斯平滑：P(word|class) = (count + 1) / (total + |V|)\n",
    "                word_count = self.class_word_counts[label].get(word, 0)\n",
    "                total_count = self.class_counts[label]\n",
    "                cond_prob += math.log((word_count + 1) / (total_count + len(self.vocab))) # log (1+1)/8 log是因为连乘是相加\n",
    "            scores[label] = cond_prob + prior_prob\n",
    "\n",
    "        # scores = {'pos':0.8, 'neg': 0.3} => max(scores, key=scores.get) => {'pos':0.8}\n",
    "        return max(scores, key=scores.get)\n",
    "\n",
    "    # 5. 批量评估准确率\n",
    "    def evaluate(self, data):\n",
    "        correct = 0\n",
    "        for text, label in data:\n",
    "            pred = self.predict(text)\n",
    "            if pred == label:\n",
    "                correct += 1\n",
    "        return correct / len(data)\n",
    "\n",
    "# 训练模型\n",
    "nb = NaiveBayesClassifier()\n",
    "nb.train(data)\n",
    "\n",
    "# 评估模型\n",
    "print(\"Accuracy:\", nb.evaluate(data))\n",
    "\n",
    "# 测试预测\n",
    "print(\"Test:\", nb.predict(\"I love this amazing film\"))     # 预测为 pos\n",
    "print(\"Test:\", nb.predict(\"Terrible and horrible movie\"))  # 预测为 neg\n"
   ]
  }
 ],
 "metadata": {
  "kernelspec": {
   "display_name": "venv",
   "language": "python",
   "name": "python3"
  },
  "language_info": {
   "codemirror_mode": {
    "name": "ipython",
    "version": 3
   },
   "file_extension": ".py",
   "mimetype": "text/x-python",
   "name": "python",
   "nbconvert_exporter": "python",
   "pygments_lexer": "ipython3",
   "version": "3.12.3"
  }
 },
 "nbformat": 4,
 "nbformat_minor": 5
}
