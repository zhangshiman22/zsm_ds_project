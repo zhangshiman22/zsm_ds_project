{
 "cells": [
  {
   "cell_type": "code",
   "execution_count": 2,
   "id": "2419671f",
   "metadata": {},
   "outputs": [],
   "source": [
    "import pandas as pd\n",
    "# test\n",
    "\n",
    "# git configuration 配置\n",
    "\n",
    "# git config --global user.name \"zhangshiman22\"\n",
    "# git config --global user.email \"zhangshiman22@gmail.com\"\n",
    "# git config --global user.name\n",
    "# git config --global user.email\n",
    "\n"
   ]
  }
 ],
 "metadata": {
  "kernelspec": {
   "display_name": "Python 3.11.6 64-bit",
   "language": "python",
   "name": "python3"
  },
  "language_info": {
   "codemirror_mode": {
    "name": "ipython",
    "version": 3
   },
   "file_extension": ".py",
   "mimetype": "text/x-python",
   "name": "python",
   "nbconvert_exporter": "python",
   "pygments_lexer": "ipython3",
   "version": "3.11.6"
  },
  "vscode": {
   "interpreter": {
    "hash": "aee8b7b246df8f9039afb4144a1f6fd8d2ca17a180786b69acc140d282b71a49"
   }
  }
 },
 "nbformat": 4,
 "nbformat_minor": 5
}
